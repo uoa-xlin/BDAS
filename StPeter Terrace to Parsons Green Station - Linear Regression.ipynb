{
 "cells": [
  {
   "cell_type": "code",
   "execution_count": 8,
   "id": "a9bc9710",
   "metadata": {},
   "outputs": [],
   "source": [
    "# import pyspark\n",
    "import findspark\n",
    "findspark.init()\n",
    "import pyspark\n",
    "from pyspark.sql import SparkSession\n",
    "spark = SparkSession.builder.appName('S2P_Linear').getOrCreate()\n",
    "from pyspark.sql.functions import *"
   ]
  },
  {
   "cell_type": "code",
   "execution_count": 9,
   "id": "8dda8326",
   "metadata": {},
   "outputs": [],
   "source": [
    "# Importing processed data which has a header. Schema is automatically configured.\n",
    "df_join = spark.read.csv('Datasets/London_join.csv', header=True, inferSchema=True)"
   ]
  },
  {
   "cell_type": "code",
   "execution_count": 10,
   "id": "624c4ee8",
   "metadata": {},
   "outputs": [],
   "source": [
    "df_join = df_join.withColumn(\"lg_day_length\", log10(col(\"day_length\"))) \\\n",
    "                .withColumn(\"lg_windspeed\", log10(col(\"windspeed\")))"
   ]
  },
  {
   "cell_type": "code",
   "execution_count": 7,
   "id": "63dedb2d",
   "metadata": {
    "scrolled": true
   },
   "outputs": [
    {
     "name": "stdout",
     "output_type": "stream",
     "text": [
      "+----------+------------+-----+---------+------+-----------+---------+----------+------------------+------------------+\n",
      "|      date|avg_duration|count|feelslike|precip|precipcover|windspeed|day_length|     lg_day_length|      lg_windspeed|\n",
      "+----------+------------+-----+---------+------+-----------+---------+----------+------------------+------------------+\n",
      "|2017-01-23|     206.667|    9|      0.6| 0.199|       8.33|      6.4|     8.721|0.9405662864900902|0.8061799739838872|\n",
      "|2017-01-24|     201.818|   11|      3.3| 0.001|       4.17|     11.5|      8.77|0.9429995933660404|1.0606978403536116|\n",
      "|2017-01-25|     185.455|   11|      0.0| 0.001|       4.17|     11.3|      8.82|0.9454685851318197|1.0530784434834197|\n",
      "|2017-01-26|       200.0|   12|     -3.4|   0.0|        0.0|     13.0|     8.871|  0.94797257924578|1.1139433523068367|\n",
      "|2017-01-27|     189.231|   13|      0.8|   0.0|        0.0|     17.1|     8.923|0.9505108929859966|1.2329961103921538|\n",
      "|2017-01-30|       195.0|    8|      6.3|   9.0|       4.17|     15.5|     9.084|0.9582771255476976|1.1903316981702914|\n",
      "|2017-01-31|     197.143|    7|      4.3| 0.601|       8.33|     17.9|     9.139|0.9608986773266607| 1.252853030979893|\n",
      "|2017-02-01|     193.333|    9|     10.1|  7.99|       8.33|     23.7|     9.195|0.9635517335740963| 1.374748346010104|\n",
      "|2017-02-02|       210.0|   12|     10.8| 0.211|       12.5|     27.6|     9.251|0.9661886809561372|1.4409090820652177|\n",
      "|2017-02-03|       230.0|   12|      6.9| 0.816|       12.5|     37.2|     9.308|0.9688563746146923|1.5705429398818975|\n",
      "|2017-02-06|     188.571|    7|      3.4|   0.0|        0.0|     17.3|     9.482|0.9768999509829378|1.2380461031287955|\n",
      "|2017-02-07|     214.286|    7|      6.4| 6.204|       8.33|     15.2|     9.542|0.9796394122229073|1.1818435879447726|\n",
      "|2017-02-08|       234.0|   10|      2.8|   0.0|        0.0|     13.6|     9.601|0.9823164696920653|1.1335389083702174|\n",
      "|2017-02-09|       186.0|   10|     -0.9|   0.0|        0.0|     17.3|     9.661|0.9850220821095351|1.2380461031287955|\n",
      "|2017-02-10|     188.571|    7|     -1.4| 0.401|      16.67|     15.9|     9.722|0.9877556167385233|1.2013971243204515|\n",
      "|2017-02-13|       200.0|    6|      2.4|   0.0|        0.0|     26.8|     9.906|0.9958983236464373| 1.428134794028789|\n",
      "|2017-02-14|       225.0|    4|      5.5|   0.0|        0.0|     16.3|     9.968|0.9986080293150944| 1.212187604403958|\n",
      "|2017-02-15|     205.714|    7|      8.4|  1.01|       4.17|     22.5|     10.03|1.0013009330204181|1.3521825181113625|\n",
      "|2017-02-16|       200.0|    9|      7.5|   0.2|       8.33|     18.6|    10.093|1.0040202732532415|1.2695129442179163|\n",
      "|2017-02-17|     162.857|    7|      8.4| 0.199|       4.17|     15.6|    10.156|1.0067226922016845|1.1931245983544616|\n",
      "+----------+------------+-----+---------+------+-----------+---------+----------+------------------+------------------+\n",
      "only showing top 20 rows\n",
      "\n"
     ]
    }
   ],
   "source": [
    "df_join.show()"
   ]
  },
  {
   "cell_type": "markdown",
   "id": "260476e4",
   "metadata": {},
   "source": [
    "**linear regression"
   ]
  },
  {
   "cell_type": "code",
   "execution_count": 12,
   "id": "33b9fa83",
   "metadata": {},
   "outputs": [],
   "source": [
    "from pyspark.ml.regression import LinearRegression\n",
    "from pyspark.ml.linalg import Vectors\n",
    "from pyspark.ml.feature import VectorAssembler"
   ]
  },
  {
   "cell_type": "code",
   "execution_count": 25,
   "id": "fbea3ebb",
   "metadata": {},
   "outputs": [],
   "source": [
    "# The input columns are the feature column names, and the output column is what you'd like the new column to be named. \n",
    "assembler = VectorAssembler(\n",
    "    inputCols=[\"feelslike\", \"precip\", \"precipcover\",'lg_day_length','lg_windspeed'],\n",
    "    outputCol=\"features\")\n",
    "output = assembler.transform(df_join)\n",
    "all_data = output.select(\"features\",'count')"
   ]
  },
  {
   "cell_type": "code",
   "execution_count": 14,
   "id": "89c8afbf",
   "metadata": {},
   "outputs": [
    {
     "name": "stdout",
     "output_type": "stream",
     "text": [
      "+--------------------+-----+\n",
      "|            features|count|\n",
      "+--------------------+-----+\n",
      "|[0.6,0.199,8.33,0...|    9|\n",
      "|[3.3,0.001,4.17,0...|   11|\n",
      "|[0.0,0.001,4.17,0...|   11|\n",
      "|[-3.4,0.0,0.0,0.9...|   12|\n",
      "|[0.8,0.0,0.0,0.95...|   13|\n",
      "|[6.3,9.0,4.17,0.9...|    8|\n",
      "|[4.3,0.601,8.33,0...|    7|\n",
      "|[10.1,7.99,8.33,0...|    9|\n",
      "|[10.8,0.211,12.5,...|   12|\n",
      "|[6.9,0.816,12.5,0...|   12|\n",
      "|[3.4,0.0,0.0,0.97...|    7|\n",
      "|[6.4,6.204,8.33,0...|    7|\n",
      "|[2.8,0.0,0.0,0.98...|   10|\n",
      "|[-0.9,0.0,0.0,0.9...|   10|\n",
      "|[-1.4,0.401,16.67...|    7|\n",
      "|[2.4,0.0,0.0,0.99...|    6|\n",
      "|[5.5,0.0,0.0,0.99...|    4|\n",
      "|[8.4,1.01,4.17,1....|    7|\n",
      "|[7.5,0.2,8.33,1.0...|    9|\n",
      "|[8.4,0.199,4.17,1...|    7|\n",
      "+--------------------+-----+\n",
      "only showing top 20 rows\n",
      "\n"
     ]
    }
   ],
   "source": [
    "all_data.show()"
   ]
  },
  {
   "cell_type": "code",
   "execution_count": 15,
   "id": "d0175c16",
   "metadata": {},
   "outputs": [
    {
     "data": {
      "text/plain": [
       "709"
      ]
     },
     "execution_count": 15,
     "metadata": {},
     "output_type": "execute_result"
    }
   ],
   "source": [
    "all_data.count()"
   ]
  },
  {
   "cell_type": "code",
   "execution_count": 26,
   "id": "058f0d4e",
   "metadata": {},
   "outputs": [
    {
     "name": "stdout",
     "output_type": "stream",
     "text": [
      "+-------+------------------+\n",
      "|summary|             count|\n",
      "+-------+------------------+\n",
      "|  count|               587|\n",
      "|   mean|10.287904599659285|\n",
      "| stddev|3.4887298124380184|\n",
      "|    min|                 1|\n",
      "|    max|                21|\n",
      "+-------+------------------+\n",
      "\n",
      "+-------+------------------+\n",
      "|summary|             count|\n",
      "+-------+------------------+\n",
      "|  count|               122|\n",
      "|   mean|10.024590163934427|\n",
      "| stddev|3.5593274384520073|\n",
      "|    min|                 1|\n",
      "|    max|                21|\n",
      "+-------+------------------+\n",
      "\n"
     ]
    }
   ],
   "source": [
    "# randomised split 80/20, \n",
    "train_data,test_data = all_data.randomSplit([0.8,0.2])\n",
    "# check data\n",
    "train_data.describe().show()\n",
    "test_data.describe().show()"
   ]
  },
  {
   "cell_type": "code",
   "execution_count": 27,
   "id": "ddb4edbb",
   "metadata": {},
   "outputs": [
    {
     "name": "stdout",
     "output_type": "stream",
     "text": [
      "Coefficients: [0.10894935469332905,-0.1083807653252574,-0.0411606391083717,-0.7741726322925219,-0.5076995104096093] Intercept: 10.806223979015297\n"
     ]
    }
   ],
   "source": [
    "# Create Linear model\n",
    "lr = LinearRegression(labelCol='count')\n",
    "lrModel = lr.fit(train_data)\n",
    "# Print the coefficients and intercept for linear regression.\n",
    "print(\"Coefficients: {} Intercept: {}\".format(lrModel.coefficients,lrModel.intercept))"
   ]
  },
  {
   "cell_type": "code",
   "execution_count": 28,
   "id": "d82ba851",
   "metadata": {},
   "outputs": [
    {
     "name": "stdout",
     "output_type": "stream",
     "text": [
      "+-------------------+\n",
      "|          residuals|\n",
      "+-------------------+\n",
      "| 1.2124684282651401|\n",
      "| 0.6372197173368015|\n",
      "|-0.3269303698953223|\n",
      "| 1.3863320259250997|\n",
      "| 0.5584226217945485|\n",
      "| 3.7347842914513674|\n",
      "|0.43144357330467464|\n",
      "| 1.7103261637851475|\n",
      "|-2.5069097879731626|\n",
      "|-3.5716418678388706|\n",
      "|0.22469750373898734|\n",
      "| -2.791807178010705|\n",
      "| 1.2105954526851939|\n",
      "|  2.310505404596409|\n",
      "| 1.2576607043093233|\n",
      "| -1.767439134890724|\n",
      "| -2.760176326702947|\n",
      "|-1.4151242338182435|\n",
      "| -4.113534054077174|\n",
      "|-2.5311501638258864|\n",
      "+-------------------+\n",
      "only showing top 20 rows\n",
      "\n",
      "RSME: 3.5145961285233907\n"
     ]
    }
   ],
   "source": [
    "# Let's evaluate the model against the test data.\n",
    "test_results = lrModel.evaluate(test_data)\n",
    "# Interesting results! This shows the difference between the predicted value and the test data.\n",
    "test_results.residuals.show()\n",
    "\n",
    "# Let's get some evaluation metrics (as discussed in the previous linear regression notebook).\n",
    "print(\"RSME: {}\".format(test_results.rootMeanSquaredError))"
   ]
  },
  {
   "cell_type": "code",
   "execution_count": 20,
   "id": "31fef03c",
   "metadata": {},
   "outputs": [
    {
     "name": "stdout",
     "output_type": "stream",
     "text": [
      "R2: 0.05580228994259573\n"
     ]
    }
   ],
   "source": [
    "# We can also get the R2 value. \n",
    "print(\"R2: {}\".format(test_results.r2))"
   ]
  }
 ],
 "metadata": {
  "kernelspec": {
   "display_name": "Python 3 (ipykernel)",
   "language": "python",
   "name": "python3"
  },
  "language_info": {
   "codemirror_mode": {
    "name": "ipython",
    "version": 3
   },
   "file_extension": ".py",
   "mimetype": "text/x-python",
   "name": "python",
   "nbconvert_exporter": "python",
   "pygments_lexer": "ipython3",
   "version": "3.11.3"
  }
 },
 "nbformat": 4,
 "nbformat_minor": 5
}
