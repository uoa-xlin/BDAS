{
 "cells": [
  {
   "cell_type": "markdown",
   "id": "d5c24b72",
   "metadata": {},
   "source": [
    "***Preprocessing London Weather data for using later"
   ]
  },
  {
   "cell_type": "markdown",
   "id": "f73bff22",
   "metadata": {},
   "source": [
    "Import pySpark"
   ]
  },
  {
   "cell_type": "code",
   "execution_count": 1,
   "id": "8e3eedcf",
   "metadata": {},
   "outputs": [],
   "source": [
    "# import pyspark\n",
    "import findspark\n",
    "findspark.init()\n",
    "import pyspark\n",
    "from pyspark.sql import SparkSession\n",
    "spark = SparkSession.builder.appName('DP_weather').getOrCreate()"
   ]
  },
  {
   "cell_type": "markdown",
   "id": "197df001",
   "metadata": {},
   "source": [
    "Reading three years london weather data in to dataframe"
   ]
  },
  {
   "cell_type": "code",
   "execution_count": 2,
   "id": "50d7dbc9",
   "metadata": {},
   "outputs": [],
   "source": [
    "# Importing data which has a header. Schema is automatically configured.\n",
    "df17 = spark.read.csv('Datasets/london weather 2017.csv', header=True, inferSchema=True)\n",
    "df18 = spark.read.csv('Datasets/london weather 2018.csv', header=True, inferSchema=True)\n",
    "df19 = spark.read.csv('Datasets/london weather 2019.csv', header=True, inferSchema=True)"
   ]
  },
  {
   "cell_type": "markdown",
   "id": "3bbc900b",
   "metadata": {},
   "source": [
    "Merging into one single weather dataset"
   ]
  },
  {
   "cell_type": "code",
   "execution_count": 3,
   "id": "d63271b3",
   "metadata": {},
   "outputs": [],
   "source": [
    "df_london_weather = df17.union(df18).union(df19)"
   ]
  },
  {
   "cell_type": "code",
   "execution_count": 7,
   "id": "b64faad5",
   "metadata": {},
   "outputs": [
    {
     "name": "stdout",
     "output_type": "stream",
     "text": [
      "root\n",
      " |-- date: date (nullable = true)\n",
      " |-- feelslike: double (nullable = true)\n",
      " |-- precip: double (nullable = true)\n",
      " |-- precipcover: double (nullable = true)\n",
      " |-- windspeed: double (nullable = true)\n",
      " |-- day_length: double (nullable = true)\n",
      "\n"
     ]
    }
   ],
   "source": [
    "df_london_weather.printSchema()"
   ]
  },
  {
   "cell_type": "markdown",
   "id": "029fc685",
   "metadata": {},
   "source": [
    "Import functions"
   ]
  },
  {
   "cell_type": "code",
   "execution_count": 4,
   "id": "9f24c278",
   "metadata": {},
   "outputs": [],
   "source": [
    "from pyspark.sql.functions import *"
   ]
  },
  {
   "cell_type": "markdown",
   "id": "a3436a0b",
   "metadata": {},
   "source": [
    "For safty, people may not like riding bicycle in dark\n",
    "Calculate hours different between sunset and sunrise\n",
    "Round the number to one decimal"
   ]
  },
  {
   "cell_type": "code",
   "execution_count": 5,
   "id": "3fd486e0",
   "metadata": {},
   "outputs": [],
   "source": [
    "df_london_weather = df_london_weather.withColumn('day_length', bround((unix_timestamp(\"sunset\")-unix_timestamp(\"sunrise\"))/3600,1))"
   ]
  },
  {
   "cell_type": "markdown",
   "id": "0ae06f4e",
   "metadata": {},
   "source": [
    "Weather condition may not impact riding bicycles\n",
    "Drop columns from weather dataset"
   ]
  },
  {
   "cell_type": "code",
   "execution_count": 6,
   "id": "527f5d59",
   "metadata": {},
   "outputs": [],
   "source": [
    "#Select columns we later\n",
    "df_london_weather = df_london_weather.select('datetime', 'feelslike','precip','precipcover','windspeed','day_length')\n",
    "#rename the column datetime to date\n",
    "df_london_weather = df_london_weather.withColumnRenamed('datetime', 'date')"
   ]
  },
  {
   "cell_type": "markdown",
   "id": "b55998dc",
   "metadata": {},
   "source": [
    "**Write processed dataset to CSV for use later"
   ]
  },
  {
   "cell_type": "code",
   "execution_count": null,
   "id": "6686dc3d",
   "metadata": {},
   "outputs": [],
   "source": [
    "df_london_weather.coalesce(1).write.format('com.databricks.spark.csv').save('DataSets/weather.csv',header = 'true')"
   ]
  }
 ],
 "metadata": {
  "kernelspec": {
   "display_name": "Python 3 (ipykernel)",
   "language": "python",
   "name": "python3"
  },
  "language_info": {
   "codemirror_mode": {
    "name": "ipython",
    "version": 3
   },
   "file_extension": ".py",
   "mimetype": "text/x-python",
   "name": "python",
   "nbconvert_exporter": "python",
   "pygments_lexer": "ipython3",
   "version": "3.11.3"
  }
 },
 "nbformat": 4,
 "nbformat_minor": 5
}
