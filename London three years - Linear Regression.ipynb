{
 "cells": [
  {
   "cell_type": "code",
   "execution_count": 1,
   "id": "a9bc9710",
   "metadata": {},
   "outputs": [],
   "source": [
    "# import pyspark\n",
    "import findspark\n",
    "findspark.init()\n",
    "import pyspark\n",
    "from pyspark.sql import SparkSession\n",
    "spark = SparkSession.builder.appName('3y_Linear').getOrCreate()\n",
    "from pyspark.sql.functions import *"
   ]
  },
  {
   "cell_type": "code",
   "execution_count": 13,
   "id": "8dda8326",
   "metadata": {},
   "outputs": [],
   "source": [
    "# Importing processed data which has a header. Schema is automatically configured.\n",
    "df_join = spark.read.csv('Datasets/London_3y.csv', header=True, inferSchema=True)"
   ]
  },
  {
   "cell_type": "code",
   "execution_count": 14,
   "id": "624c4ee8",
   "metadata": {},
   "outputs": [],
   "source": [
    "df_join = df_join.withColumn(\"lg_day_length\", log10(col(\"day_length\"))) \\\n",
    "                .withColumn(\"lg_windspeed\", log10(col(\"windspeed\"))) \\\n",
    "                .withColumn(\"reuse_rate\", col(\"count\")/16000 )"
   ]
  },
  {
   "cell_type": "code",
   "execution_count": 15,
   "id": "63dedb2d",
   "metadata": {
    "scrolled": true
   },
   "outputs": [
    {
     "name": "stdout",
     "output_type": "stream",
     "text": [
      "+----------+------------+-----+---------+------+-----------+---------+----------+------------------+------------------+----------+\n",
      "|      date|avg_duration|count|feelslike|precip|precipcover|windspeed|day_length|     lg_day_length|      lg_windspeed|reuse_rate|\n",
      "+----------+------------+-----+---------+------+-----------+---------+----------+------------------+------------------+----------+\n",
      "|2017-01-23|     817.726|23031|      0.6| 0.199|       8.33|      6.4|     8.721|0.9405662864900902|0.8061799739838872| 1.4394375|\n",
      "|2017-01-24|     851.122|26299|      3.3| 0.001|       4.17|     11.5|      8.77|0.9429995933660404|1.0606978403536116| 1.6436875|\n",
      "|2017-01-25|     832.233|24937|      0.0| 0.001|       4.17|     11.3|      8.82|0.9454685851318197|1.0530784434834197| 1.5585625|\n",
      "|2017-01-26|     803.408|23607|     -3.4|   0.0|        0.0|     13.0|     8.871|  0.94797257924578|1.1139433523068367| 1.4754375|\n",
      "|2017-01-27|      848.22|23138|      0.8|   0.0|        0.0|     17.1|     8.923|0.9505108929859966|1.2329961103921538|  1.446125|\n",
      "|2017-01-30|     840.027|24732|      6.3|   9.0|       4.17|     15.5|     9.084|0.9582771255476976|1.1903316981702914|   1.54575|\n",
      "|2017-01-31|     810.323|22383|      4.3| 0.601|       8.33|     17.9|     9.139|0.9608986773266607| 1.252853030979893| 1.3989375|\n",
      "|2017-02-01|     817.367|22870|     10.1|  7.99|       8.33|     23.7|     9.195|0.9635517335740963| 1.374748346010104|  1.429375|\n",
      "|2017-02-02|     829.222|25296|     10.8| 0.211|       12.5|     27.6|     9.251|0.9661886809561372|1.4409090820652177|     1.581|\n",
      "|2017-02-03|     862.866|22858|      6.9| 0.816|       12.5|     37.2|     9.308|0.9688563746146923|1.5705429398818975|  1.428625|\n",
      "|2017-02-06|     850.018|23964|      3.4|   0.0|        0.0|     17.3|     9.482|0.9768999509829378|1.2380461031287955|   1.49775|\n",
      "|2017-02-07|     855.484|26764|      6.4| 6.204|       8.33|     15.2|     9.542|0.9796394122229073|1.1818435879447726|   1.67275|\n",
      "|2017-02-08|      813.33|25384|      2.8|   0.0|        0.0|     13.6|     9.601|0.9823164696920653|1.1335389083702174|    1.5865|\n",
      "|2017-02-09|     792.414|22619|     -0.9|   0.0|        0.0|     17.3|     9.661|0.9850220821095351|1.2380461031287955| 1.4136875|\n",
      "|2017-02-10|     775.378|18459|     -1.4| 0.401|      16.67|     15.9|     9.722|0.9877556167385233|1.2013971243204515| 1.1536875|\n",
      "|2017-02-13|     889.814|23821|      2.4|   0.0|        0.0|     26.8|     9.906|0.9958983236464373| 1.428134794028789| 1.4888125|\n",
      "|2017-02-14|     906.504|26265|      5.5|   0.0|        0.0|     16.3|     9.968|0.9986080293150944| 1.212187604403958| 1.6415625|\n",
      "|2017-02-15|     856.048|24041|      8.4|  1.01|       4.17|     22.5|     10.03|1.0013009330204181|1.3521825181113625| 1.5025625|\n",
      "|2017-02-16|     902.886|26278|      7.5|   0.2|       8.33|     18.6|    10.093|1.0040202732532415|1.2695129442179163|  1.642375|\n",
      "|2017-02-17|     950.127|25359|      8.4| 0.199|       4.17|     15.6|    10.156|1.0067226922016845|1.1931245983544616| 1.5849375|\n",
      "+----------+------------+-----+---------+------+-----------+---------+----------+------------------+------------------+----------+\n",
      "only showing top 20 rows\n",
      "\n"
     ]
    }
   ],
   "source": [
    "df_join.show()"
   ]
  },
  {
   "cell_type": "markdown",
   "id": "260476e4",
   "metadata": {},
   "source": [
    "**linear regression"
   ]
  },
  {
   "cell_type": "code",
   "execution_count": 5,
   "id": "33b9fa83",
   "metadata": {},
   "outputs": [],
   "source": [
    "from pyspark.ml.regression import LinearRegression\n",
    "from pyspark.ml.linalg import Vectors\n",
    "from pyspark.ml.feature import VectorAssembler"
   ]
  },
  {
   "cell_type": "code",
   "execution_count": 16,
   "id": "fbea3ebb",
   "metadata": {},
   "outputs": [],
   "source": [
    "# The input columns are the feature column names, and the output column is what you'd like the new column to be named. \n",
    "assembler = VectorAssembler(\n",
    "    inputCols=[\"feelslike\", \"precip\", \"precipcover\",'lg_day_length','lg_windspeed'],\n",
    "    outputCol=\"features\")\n",
    "output = assembler.transform(df_join)\n",
    "all_data = output.select(\"features\",'reuse_rate')"
   ]
  },
  {
   "cell_type": "code",
   "execution_count": 17,
   "id": "89c8afbf",
   "metadata": {},
   "outputs": [
    {
     "name": "stdout",
     "output_type": "stream",
     "text": [
      "+--------------------+----------+\n",
      "|            features|reuse_rate|\n",
      "+--------------------+----------+\n",
      "|[0.6,0.199,8.33,0...| 1.4394375|\n",
      "|[3.3,0.001,4.17,0...| 1.6436875|\n",
      "|[0.0,0.001,4.17,0...| 1.5585625|\n",
      "|[-3.4,0.0,0.0,0.9...| 1.4754375|\n",
      "|[0.8,0.0,0.0,0.95...|  1.446125|\n",
      "|[6.3,9.0,4.17,0.9...|   1.54575|\n",
      "|[4.3,0.601,8.33,0...| 1.3989375|\n",
      "|[10.1,7.99,8.33,0...|  1.429375|\n",
      "|[10.8,0.211,12.5,...|     1.581|\n",
      "|[6.9,0.816,12.5,0...|  1.428625|\n",
      "|[3.4,0.0,0.0,0.97...|   1.49775|\n",
      "|[6.4,6.204,8.33,0...|   1.67275|\n",
      "|[2.8,0.0,0.0,0.98...|    1.5865|\n",
      "|[-0.9,0.0,0.0,0.9...| 1.4136875|\n",
      "|[-1.4,0.401,16.67...| 1.1536875|\n",
      "|[2.4,0.0,0.0,0.99...| 1.4888125|\n",
      "|[5.5,0.0,0.0,0.99...| 1.6415625|\n",
      "|[8.4,1.01,4.17,1....| 1.5025625|\n",
      "|[7.5,0.2,8.33,1.0...|  1.642375|\n",
      "|[8.4,0.199,4.17,1...| 1.5849375|\n",
      "+--------------------+----------+\n",
      "only showing top 20 rows\n",
      "\n"
     ]
    }
   ],
   "source": [
    "all_data.show()"
   ]
  },
  {
   "cell_type": "code",
   "execution_count": 8,
   "id": "d0175c16",
   "metadata": {},
   "outputs": [
    {
     "data": {
      "text/plain": [
       "714"
      ]
     },
     "execution_count": 8,
     "metadata": {},
     "output_type": "execute_result"
    }
   ],
   "source": [
    "all_data.count()"
   ]
  },
  {
   "cell_type": "code",
   "execution_count": 18,
   "id": "058f0d4e",
   "metadata": {},
   "outputs": [
    {
     "name": "stdout",
     "output_type": "stream",
     "text": [
      "+-------+------------------+\n",
      "|summary|        reuse_rate|\n",
      "+-------+------------------+\n",
      "|  count|               561|\n",
      "|   mean|1.9549998885917994|\n",
      "| stddev|0.4333416585300395|\n",
      "|    min|         0.3890625|\n",
      "|    max|          2.815375|\n",
      "+-------+------------------+\n",
      "\n",
      "+-------+------------------+\n",
      "|summary|        reuse_rate|\n",
      "+-------+------------------+\n",
      "|  count|               153|\n",
      "|   mean|1.9149031862745103|\n",
      "| stddev|0.3991835527499089|\n",
      "|    min|             0.802|\n",
      "|    max|         2.8114375|\n",
      "+-------+------------------+\n",
      "\n"
     ]
    }
   ],
   "source": [
    "# randomised split 80/20, \n",
    "train_data,test_data = all_data.randomSplit([0.8,0.2])\n",
    "# check data\n",
    "train_data.describe().show()\n",
    "test_data.describe().show()"
   ]
  },
  {
   "cell_type": "code",
   "execution_count": 19,
   "id": "ddb4edbb",
   "metadata": {},
   "outputs": [
    {
     "name": "stdout",
     "output_type": "stream",
     "text": [
      "Coefficients: [0.04654357616540764,-0.02278282081292886,-0.02281701069015454,0.08129121073762202,-0.22586333913577125] Intercept: 1.725049520484063\n"
     ]
    }
   ],
   "source": [
    "# Create Linear model\n",
    "lr = LinearRegression(labelCol='reuse_rate')\n",
    "lrModel = lr.fit(train_data)\n",
    "# Print the coefficients and intercept for linear regression.\n",
    "print(\"Coefficients: {} Intercept: {}\".format(lrModel.coefficients,lrModel.intercept))"
   ]
  },
  {
   "cell_type": "code",
   "execution_count": 20,
   "id": "d82ba851",
   "metadata": {},
   "outputs": [
    {
     "name": "stdout",
     "output_type": "stream",
     "text": [
      "+--------------------+\n",
      "|           residuals|\n",
      "+--------------------+\n",
      "| 0.03398630168192285|\n",
      "| 0.15249169151798436|\n",
      "|-0.07426509284068605|\n",
      "| 0.07435018162793772|\n",
      "| 0.06153508956758991|\n",
      "|   0.033190459209957|\n",
      "|0.024898315165056806|\n",
      "| 0.19686892429529879|\n",
      "|-0.04563680938633...|\n",
      "| -0.1127554871551959|\n",
      "|  0.2139923073555099|\n",
      "|-0.18533183237467643|\n",
      "| 0.05052249356359484|\n",
      "| 0.10850114280122858|\n",
      "|  0.2905318251276885|\n",
      "| 0.10438152813320056|\n",
      "|  0.2233525661976048|\n",
      "|   0.285680709517641|\n",
      "|-0.29085545854661954|\n",
      "| 0.09746395149772069|\n",
      "+--------------------+\n",
      "only showing top 20 rows\n",
      "\n",
      "RSME: 0.17669776129965517\n"
     ]
    }
   ],
   "source": [
    "# Let's evaluate the model against the test data.\n",
    "test_results = lrModel.evaluate(test_data)\n",
    "# Interesting results! This shows the difference between the predicted value and the test data.\n",
    "test_results.residuals.show()\n",
    "\n",
    "# Let's get some evaluation metrics (as discussed in the previous linear regression notebook).\n",
    "print(\"RSME: {}\".format(test_results.rootMeanSquaredError))"
   ]
  },
  {
   "cell_type": "code",
   "execution_count": 21,
   "id": "31fef03c",
   "metadata": {},
   "outputs": [
    {
     "name": "stdout",
     "output_type": "stream",
     "text": [
      "R2: 0.8027737764287031\n"
     ]
    }
   ],
   "source": [
    "# We can also get the R2 value. \n",
    "print(\"R2: {}\".format(test_results.r2))"
   ]
  }
 ],
 "metadata": {
  "kernelspec": {
   "display_name": "Python 3 (ipykernel)",
   "language": "python",
   "name": "python3"
  },
  "language_info": {
   "codemirror_mode": {
    "name": "ipython",
    "version": 3
   },
   "file_extension": ".py",
   "mimetype": "text/x-python",
   "name": "python",
   "nbconvert_exporter": "python",
   "pygments_lexer": "ipython3",
   "version": "3.11.3"
  }
 },
 "nbformat": 4,
 "nbformat_minor": 5
}
