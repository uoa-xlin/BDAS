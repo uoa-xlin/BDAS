{
 "cells": [
  {
   "cell_type": "code",
   "execution_count": 1,
   "id": "172bc6c6",
   "metadata": {},
   "outputs": [],
   "source": [
    "# import pyspark\n",
    "import findspark\n",
    "findspark.init()\n",
    "import pyspark\n",
    "from pyspark.sql import SparkSession\n",
    "spark = SparkSession.builder.appName('8am_Linear').getOrCreate()\n",
    "from pyspark.sql.functions import *"
   ]
  },
  {
   "cell_type": "code",
   "execution_count": 2,
   "id": "2dfe29a5",
   "metadata": {},
   "outputs": [],
   "source": [
    "# Importing processed data which has a header. Schema is automatically configured.\n",
    "df = spark.read.csv('Datasets/London_8AM.csv', header=True, inferSchema=True)"
   ]
  },
  {
   "cell_type": "code",
   "execution_count": 3,
   "id": "f2e9b755",
   "metadata": {},
   "outputs": [
    {
     "name": "stdout",
     "output_type": "stream",
     "text": [
      "+----------+---------+------+---------+------------+-----+\n",
      "|      date|feelslike|precip|windspeed|avg_duration|count|\n",
      "+----------+---------+------+---------+------------+-----+\n",
      "|2018-11-01|     10.6|   0.0|      7.1|     827.339| 3431|\n",
      "|2018-11-02|      0.3|   0.0|      6.0|     848.992| 4137|\n",
      "|2018-11-05|      7.6|   0.0|      9.9|     904.694| 4678|\n",
      "|2018-11-06|     11.1|   0.0|      6.9|     875.529| 4943|\n",
      "|2018-11-07|     12.1|   0.0|     27.0|     852.818| 3637|\n",
      "|2018-11-08|      7.6|   0.0|     13.1|     881.522| 4796|\n",
      "|2018-11-09|      7.2|   0.0|     12.5|     865.716| 4272|\n",
      "|2018-11-12|     11.0|   0.0|     11.2|     938.312| 4371|\n",
      "|2018-11-13|      6.6|   0.0|     16.1|      890.45| 4894|\n",
      "|2018-11-14|     11.0|   0.0|     13.5|     869.605| 4858|\n",
      "|2018-11-15|     12.5|   0.0|      6.6|     881.563| 4927|\n",
      "|2018-11-16|     10.5|   0.0|      6.7|     845.019| 4124|\n",
      "|2018-11-19|      5.5|   0.0|     16.3|     873.782| 3403|\n",
      "|2018-11-20|      1.3|   0.0|     19.8|      829.02| 3328|\n",
      "|2018-11-21|     -1.1|   0.0|     10.9|     857.855| 3888|\n",
      "|2018-11-22|      3.1|   0.0|      4.6|     852.673| 3977|\n",
      "|2018-11-23|      5.1|   0.0|      7.9|     820.995| 3678|\n",
      "|2018-11-26|      4.5|   0.0|     10.5|      853.98| 4236|\n",
      "|2018-11-27|      2.1|   0.0|      8.0|     847.257| 4506|\n",
      "|2018-11-28|     12.1|   0.0|     17.7|     840.505| 3566|\n",
      "+----------+---------+------+---------+------------+-----+\n",
      "only showing top 20 rows\n",
      "\n"
     ]
    }
   ],
   "source": [
    "df.show()"
   ]
  },
  {
   "cell_type": "markdown",
   "id": "e8750f00",
   "metadata": {},
   "source": [
    "**linear regression"
   ]
  },
  {
   "cell_type": "code",
   "execution_count": 4,
   "id": "48ca9bad",
   "metadata": {},
   "outputs": [],
   "source": [
    "from pyspark.ml.regression import LinearRegression\n",
    "from pyspark.ml.linalg import Vectors\n",
    "from pyspark.ml.feature import VectorAssembler"
   ]
  },
  {
   "cell_type": "code",
   "execution_count": 6,
   "id": "fa1602f2",
   "metadata": {},
   "outputs": [],
   "source": [
    "# The input columns are the feature column names, and the output column is what you'd like the new column to be named. \n",
    "assembler = VectorAssembler(\n",
    "    inputCols=[\"feelslike\", \"precip\", \"windspeed\"],\n",
    "    outputCol=\"features\")\n",
    "output = assembler.transform(df)\n",
    "all_data = output.select(\"features\",'count')"
   ]
  },
  {
   "cell_type": "code",
   "execution_count": 7,
   "id": "c8a7135f",
   "metadata": {},
   "outputs": [
    {
     "name": "stdout",
     "output_type": "stream",
     "text": [
      "+---------------+-----+\n",
      "|       features|count|\n",
      "+---------------+-----+\n",
      "| [10.6,0.0,7.1]| 3431|\n",
      "|  [0.3,0.0,6.0]| 4137|\n",
      "|  [7.6,0.0,9.9]| 4678|\n",
      "| [11.1,0.0,6.9]| 4943|\n",
      "|[12.1,0.0,27.0]| 3637|\n",
      "| [7.6,0.0,13.1]| 4796|\n",
      "| [7.2,0.0,12.5]| 4272|\n",
      "|[11.0,0.0,11.2]| 4371|\n",
      "| [6.6,0.0,16.1]| 4894|\n",
      "|[11.0,0.0,13.5]| 4858|\n",
      "| [12.5,0.0,6.6]| 4927|\n",
      "| [10.5,0.0,6.7]| 4124|\n",
      "| [5.5,0.0,16.3]| 3403|\n",
      "| [1.3,0.0,19.8]| 3328|\n",
      "|[-1.1,0.0,10.9]| 3888|\n",
      "|  [3.1,0.0,4.6]| 3977|\n",
      "|  [5.1,0.0,7.9]| 3678|\n",
      "| [4.5,0.0,10.5]| 4236|\n",
      "|  [2.1,0.0,8.0]| 4506|\n",
      "|[12.1,0.0,17.7]| 3566|\n",
      "+---------------+-----+\n",
      "only showing top 20 rows\n",
      "\n"
     ]
    }
   ],
   "source": [
    "all_data.show()"
   ]
  },
  {
   "cell_type": "code",
   "execution_count": 8,
   "id": "1d7de70f",
   "metadata": {},
   "outputs": [
    {
     "data": {
      "text/plain": [
       "22"
      ]
     },
     "execution_count": 8,
     "metadata": {},
     "output_type": "execute_result"
    }
   ],
   "source": [
    "all_data.count()"
   ]
  },
  {
   "cell_type": "code",
   "execution_count": 42,
   "id": "76ece6a1",
   "metadata": {},
   "outputs": [
    {
     "name": "stdout",
     "output_type": "stream",
     "text": [
      "+-------+-----------------+\n",
      "|summary|            count|\n",
      "+-------+-----------------+\n",
      "|  count|               11|\n",
      "|   mean|4147.363636363636|\n",
      "| stddev|542.8068298625715|\n",
      "|    min|             3431|\n",
      "|    max|             4927|\n",
      "+-------+-----------------+\n",
      "\n",
      "+-------+-----------------+\n",
      "|summary|            count|\n",
      "+-------+-----------------+\n",
      "|  count|               11|\n",
      "|   mean|4115.818181818182|\n",
      "| stddev|601.4555375390302|\n",
      "|    min|             3328|\n",
      "|    max|             4943|\n",
      "+-------+-----------------+\n",
      "\n"
     ]
    }
   ],
   "source": [
    "# randomised split 50/50, we may use full data to train again later\n",
    "train_data,test_data = all_data.randomSplit([0.5,0.5])\n",
    "# check data\n",
    "train_data.describe().show()\n",
    "test_data.describe().show()"
   ]
  },
  {
   "cell_type": "code",
   "execution_count": 43,
   "id": "26838f8b",
   "metadata": {},
   "outputs": [
    {
     "name": "stdout",
     "output_type": "stream",
     "text": [
      "Coefficients: [30.54134236103077,0.0,12.14332779657959] Intercept: 3776.702066044853\n"
     ]
    }
   ],
   "source": [
    "# Create Linear model\n",
    "lr = LinearRegression(labelCol='count')\n",
    "lrModel = lr.fit(train_data)\n",
    "# Print the coefficients and intercept for linear regression.\n",
    "print(\"Coefficients: {} Intercept: {}\".format(lrModel.coefficients,lrModel.intercept))"
   ]
  },
  {
   "cell_type": "code",
   "execution_count": 44,
   "id": "9c5c57b9",
   "metadata": {},
   "outputs": [
    {
     "name": "stdout",
     "output_type": "stream",
     "text": [
      "+------------------+\n",
      "|         residuals|\n",
      "+------------------+\n",
      "|278.27556446736025|\n",
      "| -728.843701486469|\n",
      "| 568.0144926243456|\n",
      "|194.35695146642274|\n",
      "|-739.6156921147694|\n",
      "|123.60867149848036|\n",
      "|  548.964786825175|\n",
      "| 628.1061378761206|\n",
      "| 743.5000719513064|\n",
      "|-837.1221591209742|\n",
      "|-1229.183337347432|\n",
      "+------------------+\n",
      "\n",
      "RSME: 673.6409345550331\n",
      "R2: -0.37988396853450546\n"
     ]
    }
   ],
   "source": [
    "# Let's evaluate the model against the test data.\n",
    "test_results = lrModel.evaluate(test_data)\n",
    "# Interesting results! This shows the difference between the predicted value and the test data.\n",
    "test_results.residuals.show()\n",
    "\n",
    "# Let's get some evaluation metrics (as discussed in the previous linear regression notebook).\n",
    "print(\"RSME: {}\".format(test_results.rootMeanSquaredError))\n",
    "# We can also get the R2 value. \n",
    "print(\"R2: {}\".format(test_results.r2))"
   ]
  },
  {
   "cell_type": "code",
   "execution_count": 46,
   "id": "cadb9912",
   "metadata": {},
   "outputs": [
    {
     "name": "stdout",
     "output_type": "stream",
     "text": [
      "Coefficients: [38.63790485633872,0.0,-43.57538636865492] Intercept: 4404.454922790508\n"
     ]
    }
   ],
   "source": [
    "# Train by all data\n",
    "lrModel_all = lr.fit(all_data)\n",
    "# Print the coefficients and intercept for linear regression.\n",
    "print(\"Coefficients: {} Intercept: {}\".format(lrModel_all.coefficients,lrModel_all.intercept))"
   ]
  },
  {
   "cell_type": "code",
   "execution_count": 48,
   "id": "3293c157",
   "metadata": {},
   "outputs": [
    {
     "name": "stdout",
     "output_type": "stream",
     "text": [
      "+-------------------+\n",
      "|          residuals|\n",
      "+-------------------+\n",
      "| -17.59397603548041|\n",
      "|  -263.891549004381|\n",
      "|  369.0085679604199|\n",
      "| 115.21606222684386|\n",
      "|-503.68460169129594|\n",
      "| 134.04449185203976|\n",
      "| 411.29332535100093|\n",
      "|  668.7345617306974|\n",
      "| 410.33449924785145|\n",
      "|-58.438139598523776|\n",
      "|-156.90516757849218|\n",
      "+-------------------+\n",
      "\n",
      "RSME: 344.2822874811397\n",
      "R2: 0.6395749317566863\n"
     ]
    }
   ],
   "source": [
    "# Let's evaluate the model against the test data.\n",
    "test_results_all = lrModel_all.evaluate(test_data)\n",
    "# Interesting results! This shows the difference between the predicted value and the test data.\n",
    "test_results_all.residuals.show()\n",
    "\n",
    "# Let's get some evaluation metrics (as discussed in the previous linear regression notebook).\n",
    "print(\"RSME: {}\".format(test_results_all.rootMeanSquaredError))\n",
    "# We can also get the R2 value. \n",
    "print(\"R2: {}\".format(test_results_all.r2))"
   ]
  }
 ],
 "metadata": {
  "kernelspec": {
   "display_name": "Python 3 (ipykernel)",
   "language": "python",
   "name": "python3"
  },
  "language_info": {
   "codemirror_mode": {
    "name": "ipython",
    "version": 3
   },
   "file_extension": ".py",
   "mimetype": "text/x-python",
   "name": "python",
   "nbconvert_exporter": "python",
   "pygments_lexer": "ipython3",
   "version": "3.11.3"
  }
 },
 "nbformat": 4,
 "nbformat_minor": 5
}
